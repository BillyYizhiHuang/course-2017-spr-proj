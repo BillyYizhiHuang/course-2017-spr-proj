{
 "cells": [
  {
   "cell_type": "code",
   "execution_count": 1,
   "metadata": {
    "collapsed": true
   },
   "outputs": [],
   "source": [
    "import urllib.request\n",
    "import json\n",
    "import dml\n",
    "import prov.model\n",
    "import datetime \n",
    "import uuid\n",
    "import time"
   ]
  },
  {
   "cell_type": "code",
   "execution_count": 2,
   "metadata": {
    "collapsed": false
   },
   "outputs": [
    {
     "data": {
      "text/plain": [
       "True"
      ]
     },
     "execution_count": 2,
     "metadata": {},
     "output_type": "execute_result"
    }
   ],
   "source": [
    "client = dml.pymongo.MongoClient()\n",
    "repo = client.repo\n",
    "repo.authenticate('minteng_tigerlei_zhidou', 'minteng_tigerlei_zhidou')"
   ]
  },
  {
   "cell_type": "code",
   "execution_count": 3,
   "metadata": {
    "collapsed": true
   },
   "outputs": [],
   "source": [
    "# user will set the grade they want\n",
    "transport=3\n",
    "food=4\n",
    "safety=3\n",
    "rent=4\n",
    "\n",
    "#find the fitted area\n",
    "def if_fitted(A,requirement):#[t,f,s,r] is the requirment/standred\n",
    "    [t1,f1,s1,r1]=A\n",
    "    [t,f,s,r]=requirement\n",
    "    if r1=='Not found':\n",
    "        return False\n",
    "    if t1>=t and f1>=f and s1>=s and r1>=r:\n",
    "        return True\n",
    "    return False\n",
    "def get_dist(A,requirement):\n",
    "    [t1,f1,s1,r1]=A\n",
    "    [t,f,s,r]=requirement\n",
    "    if r1=='Not found':\n",
    "        return 1000\n",
    "    return ((t1-t)**2+(f1-f)**2+(s1-s)**2+(r1-r)**2)**0.5\n",
    "\n",
    "res=[]    \n",
    "a=repo['minteng_tigerlei_zhidou.box_count'].find()\n",
    "for i in a:\n",
    "    grade=[i['grade']['transport'],i['grade']['food'],i['grade']['safety'],i['grade']['rent']]\n",
    "    if if_fitted(grade,[transport,food,safety,rent]):\n",
    "        temp=i\n",
    "        temp['rating']=sum(i['grade'].values())\n",
    "        res.append(temp)\n",
    "    else:\n",
    "        temp=i\n",
    "        temp['rating']=get_dist(grade,[transport,food,safety,rent])*-1\n",
    "        res.append(temp)"
   ]
  },
  {
   "cell_type": "code",
   "execution_count": 4,
   "metadata": {
    "collapsed": false
   },
   "outputs": [
    {
     "name": "stdout",
     "output_type": "stream",
     "text": [
      "Top fitted areas:\n",
      "Bound: [[42.26246798, -71.0586156], [42.279761969999996, -71.0144498]]\n",
      "Area: Dorchester 02124    Avg rent: 1524\n",
      "Grades: {'transport': 3, 'rent': 4, 'safety': 5, 'food': 4} \n",
      "\n",
      "Bound: [[42.279761969999996, -71.0586156], [42.297055959999994, -71.0144498]]\n",
      "Area: Dorchester 02122    Avg rent: 1524\n",
      "Grades: {'transport': 2, 'rent': 4, 'safety': 3, 'food': 4} \n",
      "\n",
      "Bound: [[42.26246798, -71.1469472], [42.279761969999996, -71.1027814]]\n",
      "Area: Hyde Park 02136    Avg rent: 1597\n",
      "Grades: {'transport': 3, 'rent': 3, 'safety': 2, 'food': 5} \n",
      "\n",
      "Bound: [[42.26246798, -71.191113], [42.279761969999996, -71.1469472]]\n",
      "Area: West Roxbury 02132    Avg rent: 1476\n",
      "Grades: {'transport': 2, 'rent': 5, 'safety': 4, 'food': 3} \n",
      "\n",
      "Bound: [[42.38352590999999, -71.0586156], [42.40081989999999, -71.0144498]]\n",
      "Area: East Boston 02128    Avg rent: 2278\n",
      "Grades: {'transport': 3, 'rent': 2, 'safety': 4, 'food': 5} \n",
      "\n"
     ]
    }
   ],
   "source": [
    "#return top fitted\n",
    "result=sorted(res, key=lambda x: x['rating'], reverse=True)\n",
    "\n",
    "print('Top fitted areas:')\n",
    "top=5\n",
    "for i in range(top):\n",
    "    print(\"Bound:\",result[i]['box'])\n",
    "    print(\"Area:\",result[i]['area'],result[i]['postal_code'],\"   Avg rent:\",result[i]['avg_rent'])\n",
    "    print(\"Grades:\",result[i]['grade'],'\\n')"
   ]
  },
  {
   "cell_type": "code",
   "execution_count": null,
   "metadata": {
    "collapsed": true
   },
   "outputs": [],
   "source": []
  }
 ],
 "metadata": {
  "anaconda-cloud": {},
  "kernelspec": {
   "display_name": "Python [conda root]",
   "language": "python",
   "name": "conda-root-py"
  },
  "language_info": {
   "codemirror_mode": {
    "name": "ipython",
    "version": 3
   },
   "file_extension": ".py",
   "mimetype": "text/x-python",
   "name": "python",
   "nbconvert_exporter": "python",
   "pygments_lexer": "ipython3",
   "version": "3.5.2"
  }
 },
 "nbformat": 4,
 "nbformat_minor": 1
}
